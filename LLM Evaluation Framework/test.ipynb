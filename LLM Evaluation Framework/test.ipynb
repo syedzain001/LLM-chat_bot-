{
 "cells": [
  {
   "cell_type": "code",
   "execution_count": 9,
   "metadata": {},
   "outputs": [
    {
     "name": "stdout",
     "output_type": "stream",
     "text": [
      "  Qno                      Question Description  \\\n",
      "0  Q1            Which is the Capital of India?   \n",
      "1  Q2  What are Geographical Benifits of India?   \n",
      "\n",
      "                                              Answer  Max Marks  \n",
      "0                                          New Delhi          1  \n",
      "1  India’s Strategic Location.Isolation and Conne...          2  \n"
     ]
    }
   ],
   "source": [
    "import pandas as pd\n",
    "\n",
    "# Load the CSV file with question, answer key, and marks\n",
    "file_path = r\"data\\questionAndAnswers.txt\"\n",
    "df = pd.read_csv(file_path,delimiter=\"|\")\n",
    "\n",
    "# Example of how your DataFrame looks\n",
    "print(df)"
   ]
  },
  {
   "cell_type": "code",
   "execution_count": 10,
   "metadata": {},
   "outputs": [
    {
     "name": "stderr",
     "output_type": "stream",
     "text": [
      "d:\\LangChain\\venv\\lib\\site-packages\\tqdm\\auto.py:21: TqdmWarning: IProgress not found. Please update jupyter and ipywidgets. See https://ipywidgets.readthedocs.io/en/stable/user_install.html\n",
      "  from .autonotebook import tqdm as notebook_tqdm\n"
     ]
    },
    {
     "name": "stdout",
     "output_type": "stream",
     "text": [
      "[ 9.84213203e-02  1.79742165e-02 -4.64241616e-02  3.91058400e-02\n",
      " -2.82076895e-02 -5.09275384e-02  5.81051409e-02  1.74796041e-02\n",
      " -1.69745795e-02 -2.38932371e-02 -1.66553464e-02 -1.35838196e-01\n",
      "  3.39705460e-02 -3.29496339e-02  1.92225948e-02 -8.85911509e-02\n",
      "  2.90319435e-02 -8.57441593e-03  9.75931734e-02 -6.88676089e-02\n",
      "  7.35698268e-05  2.75427382e-02 -3.27298837e-03 -7.87428916e-02\n",
      "  6.98106885e-02  2.27475967e-02  3.96960750e-02 -4.10304479e-02\n",
      " -1.39524927e-02 -7.88887683e-03  5.07853068e-02 -5.13138510e-02\n",
      " -7.52076413e-03  4.53391159e-03 -6.01102710e-02 -3.44084087e-03\n",
      " -3.95009145e-02  5.85709512e-02  1.60099700e-01 -5.28912768e-02\n",
      "  1.80117041e-02  1.75884739e-02  6.89322874e-02  1.33438278e-02\n",
      "  4.67530861e-02 -1.62491724e-02  4.91726492e-03  1.77645907e-02\n",
      "  1.30894678e-02 -6.36175424e-02  7.42257610e-02 -4.75886539e-02\n",
      " -7.92552456e-02  2.21456066e-02 -1.05005121e-02 -3.66385072e-03\n",
      " -3.40875797e-02 -4.48063053e-02 -1.59561243e-02  5.95230125e-02\n",
      " -2.75363363e-02  8.67148116e-03  1.19592939e-02  5.01459949e-02\n",
      "  9.85739753e-02 -2.66604852e-02  6.12047762e-02 -2.09880229e-02\n",
      " -2.61868890e-02 -4.68337052e-02  1.39980679e-02 -1.25901066e-02\n",
      "  1.41553376e-02 -6.50166720e-02 -4.25611287e-02 -7.82603845e-02\n",
      " -6.03041165e-02  9.25562382e-02 -1.81979742e-02  4.31391299e-02\n",
      "  8.74475855e-03  8.61359667e-03  1.72826126e-02  8.48460570e-02\n",
      " -7.01688305e-02  1.83857381e-02  9.98111907e-03 -3.32217030e-02\n",
      " -2.34811045e-02 -5.01742065e-02  6.40661940e-02  8.02183300e-02\n",
      " -3.86659428e-02  6.44100085e-03 -9.56539288e-02  2.98182629e-02\n",
      " -8.23695138e-02  1.90439299e-02 -5.30021191e-02  3.38400230e-02\n",
      "  9.04289447e-03  1.28685788e-04 -4.37760390e-02 -1.01896198e-02\n",
      " -6.77479282e-02  5.31073986e-03 -3.07971109e-02 -7.18399957e-02\n",
      " -1.82758868e-02 -3.04910932e-02 -8.20982754e-02  3.63416187e-02\n",
      " -4.32565175e-02  9.87095118e-05  8.40661861e-03  6.22345507e-02\n",
      "  3.39189209e-02  9.17993207e-03 -2.56723091e-02  1.72618404e-02\n",
      " -9.82040390e-02  7.86211900e-03  2.51863282e-02 -3.79854329e-02\n",
      " -8.54332596e-02 -6.44212514e-02 -9.11620036e-02 -8.55508993e-33\n",
      " -5.90322018e-02 -3.65213044e-02  4.95787300e-02  1.78836100e-02\n",
      " -5.76736331e-02 -1.87203963e-03  2.23483332e-02 -6.03784025e-02\n",
      " -9.03727394e-03 -3.61734480e-02  2.91299410e-02 -1.69312418e-01\n",
      "  8.24228115e-03 -1.12508096e-01  1.26455247e-01  1.73701569e-02\n",
      " -1.10045383e-02  2.62097884e-02 -4.53017615e-02  3.33302952e-02\n",
      " -4.05917279e-02 -7.65834330e-03 -1.34671328e-03 -1.89230461e-02\n",
      "  1.03235862e-03  2.79882681e-02  5.79794832e-02  8.38518664e-02\n",
      "  4.82773334e-02  2.29005869e-02  7.70300776e-02  4.49259281e-02\n",
      " -3.60827446e-02  4.76376042e-02 -1.22028608e-02  9.13003553e-03\n",
      "  1.47220353e-02 -4.90575936e-03 -1.30570233e-02  2.41918638e-02\n",
      "  1.06462678e-02 -7.15489005e-05 -4.84442972e-02  3.36574763e-02\n",
      "  2.41900180e-02  1.67061090e-02 -3.04192882e-02  3.02997567e-02\n",
      "  3.12690362e-02  6.49754889e-03 -4.00840864e-02  1.87381897e-02\n",
      " -3.10786888e-02 -1.11987991e-02  2.13648975e-02  6.52957782e-02\n",
      " -6.54899189e-03 -9.34696291e-03  5.96965738e-02  1.36730105e-01\n",
      " -1.68996584e-02 -4.35942486e-02 -4.77249064e-02 -2.14727763e-02\n",
      "  3.72963957e-02  1.00046314e-01  8.50088149e-02 -6.20034374e-02\n",
      "  4.49057370e-02  1.53208002e-02  1.88558977e-02 -2.13865172e-02\n",
      "  2.33644508e-02  1.37219205e-01 -5.18796369e-02  3.38927656e-02\n",
      "  3.36111640e-03 -1.10200513e-02 -2.94358600e-02  3.47644910e-02\n",
      " -4.38283384e-02  5.35082370e-02 -5.94807789e-02  1.95701700e-03\n",
      "  7.17297122e-02 -9.57253426e-02 -1.03042945e-01 -5.69063202e-02\n",
      "  2.67186621e-03 -7.34246373e-02 -3.29884812e-02 -5.01996949e-02\n",
      " -2.54321005e-02  2.11631153e-02 -3.55821699e-02  4.57857401e-33\n",
      "  2.84817796e-02 -6.21847361e-02 -1.18289568e-01  1.74718127e-02\n",
      " -3.82925197e-02 -8.38855747e-03  5.32157794e-02  2.64274236e-02\n",
      "  2.06666850e-02  9.03793871e-02 -3.36361602e-02  1.69953834e-02\n",
      " -8.04251700e-04  6.31532669e-02  8.93983766e-02  5.21225221e-02\n",
      "  9.25550163e-02  1.45783359e-02 -1.09449148e-01 -5.65418825e-02\n",
      " -7.87621289e-02  4.69685271e-02 -3.29711773e-02 -2.30130833e-02\n",
      " -7.01032253e-03  2.57597957e-02 -1.55822977e-01 -2.06293957e-03\n",
      " -1.56926420e-02  2.77959369e-02  1.02792494e-02 -2.61346120e-02\n",
      " -2.49042269e-02  8.81406367e-02 -8.69107097e-02  3.28983031e-02\n",
      "  5.26442602e-02 -2.51082871e-02  6.05400391e-02  8.43922645e-02\n",
      " -2.18964070e-02  9.31964964e-02  8.69012251e-02  1.07075654e-01\n",
      "  3.32282931e-02 -3.57626341e-02  5.55215813e-02  6.12578131e-02\n",
      " -3.02316598e-03  1.70171484e-02  1.21590924e-02 -3.12000178e-02\n",
      "  4.17279750e-02 -3.28899585e-02  3.17208841e-02  3.68262231e-02\n",
      " -8.10469612e-02  8.68007839e-02 -5.22446670e-02 -1.08948916e-01\n",
      "  9.35291126e-02  2.42554136e-02  2.61504836e-02  6.44295588e-02\n",
      " -6.35724142e-02  5.02468348e-02  3.06028668e-02  1.64535493e-02\n",
      "  3.56446430e-02 -5.46046793e-02  8.21944848e-02  6.41166884e-03\n",
      " -9.63984430e-02  2.68718246e-02 -4.09604385e-02  6.01375923e-02\n",
      "  8.91399682e-02  2.75671836e-02 -7.53715285e-04 -3.31253670e-02\n",
      "  4.46552783e-03  1.09621301e-01  5.44071337e-03 -8.58378708e-02\n",
      "  9.18230135e-03  4.03433293e-02  2.17802953e-02 -4.50978838e-02\n",
      "  4.47404981e-02 -2.32013706e-02 -2.41715275e-02  4.30704020e-02\n",
      " -1.32282013e-02 -2.07373146e-02 -7.11593637e-03 -1.85907858e-08\n",
      "  5.56346634e-03 -5.43247201e-02 -3.56794968e-02  5.13757803e-02\n",
      "  2.14867247e-03  2.41648965e-02  2.63554491e-02 -4.29873960e-03\n",
      "  1.88651290e-02 -2.61278544e-02 -1.19757811e-02 -5.90938900e-04\n",
      " -8.16080719e-02 -2.75051706e-02 -4.87123132e-02 -2.80015543e-02\n",
      " -1.03243394e-02  7.27002546e-02 -1.97306722e-02 -7.65289739e-02\n",
      "  1.95240253e-03  5.48695028e-03  1.83586851e-02 -3.23293991e-02\n",
      "  9.95603576e-03 -5.65023348e-02  1.62403565e-02  2.02676151e-02\n",
      "  3.19411606e-02  2.63290089e-02 -8.32647271e-03  6.30701939e-03\n",
      " -3.81061584e-02 -1.19888149e-01 -3.25229913e-02  1.41417515e-02\n",
      "  8.96022171e-02  1.70528365e-03  4.25706580e-02  4.42773849e-03\n",
      "  1.36157405e-02  2.07908154e-02  4.94801141e-02 -2.23889365e-03\n",
      "  3.87022905e-02  2.42945645e-02  3.72409709e-02 -1.47563154e-02\n",
      "  1.55906091e-02 -1.37163654e-01 -1.45433158e-01  2.95998435e-03\n",
      "  1.35450130e-02  1.05093839e-02 -4.89511415e-02  2.74532530e-02\n",
      " -9.76415351e-02 -2.27230117e-02 -1.92384515e-02  3.26641984e-02\n",
      "  2.22052652e-02  1.84275601e-02  5.47084361e-02  3.01391026e-03]\n"
     ]
    }
   ],
   "source": [
    "from sentence_transformers import SentenceTransformer\n",
    "\n",
    "# Initialize the HuggingFace Sentence Transformer model (or any other HuggingFace model)\n",
    "model = SentenceTransformer('all-MiniLM-L6-v2')\n",
    "\n",
    "# Prepare the text for embedding\n",
    "questions = df['Question Description'].tolist()\n",
    "correct_answers = df['Answer'].tolist()\n",
    "\n",
    "# Example student answers (can be stored in a separate list or loaded)\n",
    "student_answers = [\n",
    "    \"Delhi\",  # Student's answer for Q1\n",
    "    \"India’s Strategic Location.Isolation and Connectivity\"  # Student's answer for Q2\n",
    "]\n",
    "\n",
    "# Create embeddings for questions, correct answers, and student answers\n",
    "question_embeddings = model.encode(questions)\n",
    "correct_answer_embeddings = model.encode(correct_answers)\n",
    "student_answer_embeddings = model.encode(student_answers)\n",
    "\n",
    "# Print the embeddings (optional, as the embeddings are large vectors)\n",
    "print(question_embeddings[0])  # Embedding for the first question"
   ]
  },
  {
   "cell_type": "code",
   "execution_count": 11,
   "metadata": {},
   "outputs": [
    {
     "name": "stdout",
     "output_type": "stream",
     "text": [
      "[0.86936057, 0.83812904]\n"
     ]
    }
   ],
   "source": [
    "from sklearn.metrics.pairwise import cosine_similarity\n",
    "\n",
    "# Calculate cosine similarity between student answer and correct answer\n",
    "similarities = []\n",
    "for correct_embedding, student_embedding in zip(correct_answer_embeddings, student_answer_embeddings):\n",
    "    similarity = cosine_similarity([correct_embedding], [student_embedding])\n",
    "    similarities.append(similarity[0][0])\n",
    "\n",
    "print(similarities)"
   ]
  },
  {
   "cell_type": "code",
   "execution_count": null,
   "metadata": {},
   "outputs": [],
   "source": [
    "import os\n",
    "from dotenv import load_dotenv\n",
    "load_dotenv()\n",
    "\n",
    "os.environ[\"HF_TOKEN\"]=os.getenv(\"HF_TOKEN\")\n",
    "os.environ[\"OPENAI_API_KEYKEN\"]=os.getenv(\"OPENAI_API_KEY\")"
   ]
  },
  {
   "cell_type": "code",
   "execution_count": null,
   "metadata": {},
   "outputs": [],
   "source": [
    "import openai\n",
    "\n",
    "openai.api_key = os.getenv(\"OPENAI_API_KEY\")\n",
    "\n",
    "def generate_score(question, correct_answer, student_answer, max_marks):\n",
    "    # Create the prompt for GPT-4\n",
    "    prompt = f\"\"\"\n",
    "    Question: {question}\n",
    "    Correct Answer: {correct_answer}\n",
    "    Student's Answer: {student_answer}\n",
    "    Max Marks: {max_marks}\n",
    "    Based on the student's answer, assign a score out of {max_marks} by evaluating how similar the student's answer is to the correct answer. Provide a detailed explanation of the score.\n",
    "    \"\"\"\n",
    "\n",
    "    # Call GPT-4 API to evaluate the answer\n",
    "    response = openai.Completion.create(\n",
    "        model=\"gpt-4\",\n",
    "        prompt=prompt,\n",
    "        max_tokens=100\n",
    "    )\n",
    "\n",
    "    # Extract the score from the response\n",
    "    return response.choices[0].text.strip()\n",
    "\n",
    "# Example of evaluating the first question\n",
    "question = df.loc[0, 'Question Description']\n",
    "correct_answer = df.loc[0, 'Answer']\n",
    "student_answer = student_answers[0]\n",
    "max_marks = df.loc[0, 'Max Marks']\n",
    "\n",
    "# Generate the score using GPT-4\n",
    "score = generate_score(question, correct_answer, student_answer, max_marks)\n",
    "print(score)"
   ]
  }
 ],
 "metadata": {
  "kernelspec": {
   "display_name": "Python 3",
   "language": "python",
   "name": "python3"
  },
  "language_info": {
   "codemirror_mode": {
    "name": "ipython",
    "version": 3
   },
   "file_extension": ".py",
   "mimetype": "text/x-python",
   "name": "python",
   "nbconvert_exporter": "python",
   "pygments_lexer": "ipython3",
   "version": "3.10.0"
  }
 },
 "nbformat": 4,
 "nbformat_minor": 2
}
